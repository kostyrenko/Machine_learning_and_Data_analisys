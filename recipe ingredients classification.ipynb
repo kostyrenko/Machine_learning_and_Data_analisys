{
 "cells": [
  {
   "cell_type": "markdown",
   "metadata": {},
   "source": [
    "Задача текстовой классификации.  \n",
    "\n",
    "Для этой задачи есть соревнование на kaggle https://www.kaggle.com/c/whats-cooking/\n",
    "\n",
    "Дано:  \n",
    "    1. Ингридиенты кулинарного рецепта на английском языке.\n",
    "    2. Название страны происхождения рецепта.\n",
    "    \n",
    "Необходимо составить модель, которая будет определять наименование страны по содержимому рецепта."
   ]
  },
  {
   "cell_type": "markdown",
   "metadata": {},
   "source": [
    "Загружаю необходимые библиотеки:"
   ]
  },
  {
   "cell_type": "code",
   "execution_count": 1,
   "metadata": {},
   "outputs": [
    {
     "name": "stderr",
     "output_type": "stream",
     "text": [
      "/usr/lib/python3.6/importlib/_bootstrap.py:219: RuntimeWarning: numpy.dtype size changed, may indicate binary incompatibility. Expected 96, got 88\n",
      "  return f(*args, **kwds)\n",
      "/usr/lib/python3.6/importlib/_bootstrap.py:219: RuntimeWarning: numpy.dtype size changed, may indicate binary incompatibility. Expected 96, got 88\n",
      "  return f(*args, **kwds)\n"
     ]
    }
   ],
   "source": [
    "import pandas as pd\n",
    "import numpy as np"
   ]
  },
  {
   "cell_type": "markdown",
   "metadata": {},
   "source": [
    "Получаю данные из источника:"
   ]
  },
  {
   "cell_type": "code",
   "execution_count": 76,
   "metadata": {},
   "outputs": [],
   "source": [
    "data=pd.read_json('train.json')"
   ]
  },
  {
   "cell_type": "code",
   "execution_count": 77,
   "metadata": {},
   "outputs": [
    {
     "data": {
      "text/html": [
       "<div>\n",
       "<style scoped>\n",
       "    .dataframe tbody tr th:only-of-type {\n",
       "        vertical-align: middle;\n",
       "    }\n",
       "\n",
       "    .dataframe tbody tr th {\n",
       "        vertical-align: top;\n",
       "    }\n",
       "\n",
       "    .dataframe thead th {\n",
       "        text-align: right;\n",
       "    }\n",
       "</style>\n",
       "<table border=\"1\" class=\"dataframe\">\n",
       "  <thead>\n",
       "    <tr style=\"text-align: right;\">\n",
       "      <th></th>\n",
       "      <th>cuisine</th>\n",
       "      <th>id</th>\n",
       "      <th>ingredients</th>\n",
       "    </tr>\n",
       "  </thead>\n",
       "  <tbody>\n",
       "    <tr>\n",
       "      <th>0</th>\n",
       "      <td>greek</td>\n",
       "      <td>10259</td>\n",
       "      <td>[romaine lettuce, black olives, grape tomatoes...</td>\n",
       "    </tr>\n",
       "    <tr>\n",
       "      <th>1</th>\n",
       "      <td>southern_us</td>\n",
       "      <td>25693</td>\n",
       "      <td>[plain flour, ground pepper, salt, tomatoes, g...</td>\n",
       "    </tr>\n",
       "    <tr>\n",
       "      <th>2</th>\n",
       "      <td>filipino</td>\n",
       "      <td>20130</td>\n",
       "      <td>[eggs, pepper, salt, mayonaise, cooking oil, g...</td>\n",
       "    </tr>\n",
       "    <tr>\n",
       "      <th>3</th>\n",
       "      <td>indian</td>\n",
       "      <td>22213</td>\n",
       "      <td>[water, vegetable oil, wheat, salt]</td>\n",
       "    </tr>\n",
       "    <tr>\n",
       "      <th>4</th>\n",
       "      <td>indian</td>\n",
       "      <td>13162</td>\n",
       "      <td>[black pepper, shallots, cornflour, cayenne pe...</td>\n",
       "    </tr>\n",
       "    <tr>\n",
       "      <th>5</th>\n",
       "      <td>jamaican</td>\n",
       "      <td>6602</td>\n",
       "      <td>[plain flour, sugar, butter, eggs, fresh ginge...</td>\n",
       "    </tr>\n",
       "    <tr>\n",
       "      <th>6</th>\n",
       "      <td>spanish</td>\n",
       "      <td>42779</td>\n",
       "      <td>[olive oil, salt, medium shrimp, pepper, garli...</td>\n",
       "    </tr>\n",
       "    <tr>\n",
       "      <th>7</th>\n",
       "      <td>italian</td>\n",
       "      <td>3735</td>\n",
       "      <td>[sugar, pistachio nuts, white almond bark, flo...</td>\n",
       "    </tr>\n",
       "    <tr>\n",
       "      <th>8</th>\n",
       "      <td>mexican</td>\n",
       "      <td>16903</td>\n",
       "      <td>[olive oil, purple onion, fresh pineapple, por...</td>\n",
       "    </tr>\n",
       "    <tr>\n",
       "      <th>9</th>\n",
       "      <td>italian</td>\n",
       "      <td>12734</td>\n",
       "      <td>[chopped tomatoes, fresh basil, garlic, extra-...</td>\n",
       "    </tr>\n",
       "  </tbody>\n",
       "</table>\n",
       "</div>"
      ],
      "text/plain": [
       "       cuisine     id                                        ingredients\n",
       "0        greek  10259  [romaine lettuce, black olives, grape tomatoes...\n",
       "1  southern_us  25693  [plain flour, ground pepper, salt, tomatoes, g...\n",
       "2     filipino  20130  [eggs, pepper, salt, mayonaise, cooking oil, g...\n",
       "3       indian  22213                [water, vegetable oil, wheat, salt]\n",
       "4       indian  13162  [black pepper, shallots, cornflour, cayenne pe...\n",
       "5     jamaican   6602  [plain flour, sugar, butter, eggs, fresh ginge...\n",
       "6      spanish  42779  [olive oil, salt, medium shrimp, pepper, garli...\n",
       "7      italian   3735  [sugar, pistachio nuts, white almond bark, flo...\n",
       "8      mexican  16903  [olive oil, purple onion, fresh pineapple, por...\n",
       "9      italian  12734  [chopped tomatoes, fresh basil, garlic, extra-..."
      ]
     },
     "execution_count": 77,
     "metadata": {},
     "output_type": "execute_result"
    }
   ],
   "source": [
    "data.head(10)"
   ]
  },
  {
   "cell_type": "code",
   "execution_count": 78,
   "metadata": {},
   "outputs": [
    {
     "data": {
      "text/plain": [
       "(39774, 3)"
      ]
     },
     "execution_count": 78,
     "metadata": {},
     "output_type": "execute_result"
    }
   ],
   "source": [
    "data.shape"
   ]
  },
  {
   "cell_type": "code",
   "execution_count": 79,
   "metadata": {},
   "outputs": [
    {
     "data": {
      "text/plain": [
       "italian         7838\n",
       "mexican         6438\n",
       "southern_us     4320\n",
       "indian          3003\n",
       "chinese         2673\n",
       "french          2646\n",
       "cajun_creole    1546\n",
       "thai            1539\n",
       "japanese        1423\n",
       "greek           1175\n",
       "spanish          989\n",
       "korean           830\n",
       "vietnamese       825\n",
       "moroccan         821\n",
       "british          804\n",
       "filipino         755\n",
       "irish            667\n",
       "jamaican         526\n",
       "russian          489\n",
       "brazilian        467\n",
       "Name: cuisine, dtype: int64"
      ]
     },
     "execution_count": 79,
     "metadata": {},
     "output_type": "execute_result"
    }
   ],
   "source": [
    "data.cuisine.value_counts()"
   ]
  },
  {
   "cell_type": "markdown",
   "metadata": {},
   "source": [
    "На входе имею 39774 рецептов в 20 категориях. Есть категории с очень большим количеством рецептов и с очень маленьким - это нужно будет учесть."
   ]
  },
  {
   "cell_type": "code",
   "execution_count": 80,
   "metadata": {},
   "outputs": [
    {
     "data": {
      "text/plain": [
       "(39774, 3)"
      ]
     },
     "execution_count": 80,
     "metadata": {},
     "output_type": "execute_result"
    }
   ],
   "source": [
    "data.shape"
   ]
  },
  {
   "cell_type": "markdown",
   "metadata": {},
   "source": [
    "Теперь, когда есть контрольные данные, можно пробовать различные модели."
   ]
  },
  {
   "cell_type": "code",
   "execution_count": 81,
   "metadata": {},
   "outputs": [],
   "source": [
    "dict_y=data.cuisine.unique()\n",
    "X=data.ingredients.apply(lambda x: ', '.join(x))\n",
    "y=[]\n",
    "for x in data.cuisine:\n",
    "    y.extend(np.where(dict_y == x)[0])"
   ]
  },
  {
   "cell_type": "code",
   "execution_count": 82,
   "metadata": {},
   "outputs": [],
   "source": [
    "from sklearn.feature_extraction.text import CountVectorizer,TfidfVectorizer\n",
    "from sklearn.linear_model import LogisticRegression\n",
    "from sklearn.model_selection import cross_val_score\n",
    "import numpy as np\n",
    "from sklearn.pipeline import Pipeline\n",
    "from sklearn.svm import LinearSVC\n",
    "from sklearn.linear_model import SGDClassifier"
   ]
  },
  {
   "cell_type": "markdown",
   "metadata": {},
   "source": [
    "Пробую модели с TfidfVectorizer и количеством n-gramm от 1 до 2.  \n",
    "Значение ошибки равна среднему значению ошибки кросс-валидации модели по 5 фолдам."
   ]
  },
  {
   "cell_type": "code",
   "execution_count": 83,
   "metadata": {},
   "outputs": [
    {
     "name": "stdout",
     "output_type": "stream",
     "text": [
      "tfdf_svc mean: 0.7883290862664112\n",
      "tfdf_log mean: 0.7647959070159182\n",
      "tfdf_sgd mean: 0.7736210743296008\n"
     ]
    }
   ],
   "source": [
    "tfdf_svc_clf = Pipeline([('vect', TfidfVectorizer(ngram_range=(1, 2))),\n",
    "                     ('clf', LinearSVC(random_state=123))])\n",
    "\n",
    "tfdf_log_clf = Pipeline([('vect', TfidfVectorizer(ngram_range=(1, 2))),\n",
    "                     ('clf', LogisticRegression(random_state=123))])\n",
    "\n",
    "tfdf_sgd_clf = Pipeline([('vect', TfidfVectorizer(ngram_range=(1, 2))),\n",
    "                     ('clf', SGDClassifier(random_state=123,max_iter=1000,tol=1e-3))])\n",
    "\n",
    "tfdf_svc_res=cross_val_score(tfdf_svc_clf,X,y,cv=5,scoring='accuracy',n_jobs=3)\n",
    "tfdf_log_res=cross_val_score(tfdf_log_clf,X,y,cv=5,scoring='accuracy',n_jobs=3)\n",
    "tfdf_sgd_res=cross_val_score(tfdf_sgd_clf,X,y,cv=5,scoring='accuracy',n_jobs=3)\n",
    "\n",
    "print(\"tfdf_svc mean:\",np.mean(tfdf_svc_res))\n",
    "print(\"tfdf_log mean:\",np.mean(tfdf_log_res))\n",
    "print(\"tfdf_sgd mean:\",np.mean(tfdf_sgd_res))"
   ]
  },
  {
   "cell_type": "markdown",
   "metadata": {},
   "source": [
    "Попробую те же модели с CountVectorizer"
   ]
  },
  {
   "cell_type": "code",
   "execution_count": 84,
   "metadata": {},
   "outputs": [
    {
     "name": "stdout",
     "output_type": "stream",
     "text": [
      "count_svc mean: 0.7603965381282844\n",
      "count_log mean: 0.7862923830998303\n",
      "count_sgd mean: 0.7714075710537001\n"
     ]
    }
   ],
   "source": [
    "count_svc_clf = Pipeline([('vect', CountVectorizer(ngram_range=(1, 2))),\n",
    "                     ('clf', LinearSVC(random_state=123))])\n",
    "\n",
    "count_log_clf = Pipeline([('vect', CountVectorizer(ngram_range=(1, 2))),\n",
    "                     ('clf', LogisticRegression(random_state=123))])\n",
    "\n",
    "count_sgd_clf = Pipeline([('vect', CountVectorizer(ngram_range=(1, 2))),\n",
    "                     ('clf', SGDClassifier(random_state=123,max_iter=1000,tol=1e-3))])\n",
    "\n",
    "count_svc_res=cross_val_score(count_svc_clf,X,y,cv=5,scoring='accuracy',n_jobs=3)\n",
    "count_log_res=cross_val_score(count_log_clf,X,y,cv=5,scoring='accuracy',n_jobs=3)\n",
    "count_sgd_res=cross_val_score(count_sgd_clf,X,y,cv=5,scoring='accuracy',n_jobs=3)\n",
    "\n",
    "print(\"count_svc mean:\",np.mean(count_svc_res))\n",
    "print(\"count_log mean:\",np.mean(count_log_res))\n",
    "print(\"count_sgd mean:\",np.mean(count_sgd_res))"
   ]
  },
  {
   "cell_type": "markdown",
   "metadata": {},
   "source": [
    "CountVectorizer с n-gramm от 1 до 3"
   ]
  },
  {
   "cell_type": "code",
   "execution_count": 85,
   "metadata": {},
   "outputs": [
    {
     "name": "stdout",
     "output_type": "stream",
     "text": [
      "count_svc mean: 0.7687435539709216\n",
      "count_log mean: 0.784456680192035\n",
      "count_sgd mean: 0.7673590328741229\n"
     ]
    }
   ],
   "source": [
    "count_svc_clf = Pipeline([('vect', CountVectorizer(ngram_range=(1, 3))),\n",
    "                     ('clf', LinearSVC(random_state=123))])\n",
    "\n",
    "count_log_clf = Pipeline([('vect', CountVectorizer(ngram_range=(1, 3))),\n",
    "                     ('clf', LogisticRegression(random_state=123))])\n",
    "\n",
    "count_sgd_clf = Pipeline([('vect', CountVectorizer(ngram_range=(1, 3))),\n",
    "                     ('clf', SGDClassifier(random_state=123,max_iter=1000,tol=1e-3))])\n",
    "\n",
    "count_svc_res=cross_val_score(count_svc_clf,X,y,cv=5,scoring='accuracy',n_jobs=3)\n",
    "count_log_res=cross_val_score(count_log_clf,X,y,cv=5,scoring='accuracy',n_jobs=3)\n",
    "count_sgd_res=cross_val_score(count_sgd_clf,X,y,cv=5,scoring='accuracy',n_jobs=3)\n",
    "\n",
    "print(\"count_svc mean:\",np.mean(count_svc_res))\n",
    "print(\"count_log mean:\",np.mean(count_log_res))\n",
    "print(\"count_sgd mean:\",np.mean(count_sgd_res))"
   ]
  },
  {
   "cell_type": "markdown",
   "metadata": {},
   "source": [
    "TfidfVectorizer с n-gramm от 1 до 3"
   ]
  },
  {
   "cell_type": "code",
   "execution_count": 86,
   "metadata": {},
   "outputs": [
    {
     "name": "stdout",
     "output_type": "stream",
     "text": [
      "tfdf_svc mean: 0.7843317378592742\n",
      "tfdf_log mean: 0.7425955164873553\n",
      "tfdf_sgd mean: 0.7565747380203578\n"
     ]
    }
   ],
   "source": [
    "tfdf_svc_clf = Pipeline([('vect', TfidfVectorizer(ngram_range=(1, 3))),\n",
    "                     ('clf', LinearSVC(random_state=123))])\n",
    "\n",
    "tfdf_log_clf = Pipeline([('vect', TfidfVectorizer(ngram_range=(1, 3))),\n",
    "                     ('clf', LogisticRegression(random_state=123))])\n",
    "\n",
    "tfdf_sgd_clf = Pipeline([('vect', TfidfVectorizer(ngram_range=(1, 3))),\n",
    "                     ('clf', SGDClassifier(random_state=123,max_iter=1000,tol=1e-3))])\n",
    "\n",
    "tfdf_svc_res=cross_val_score(tfdf_svc_clf,X,y,cv=5,scoring='accuracy',n_jobs=3)\n",
    "tfdf_log_res=cross_val_score(tfdf_log_clf,X,y,cv=5,scoring='accuracy',n_jobs=3)\n",
    "tfdf_sgd_res=cross_val_score(tfdf_sgd_clf,X,y,cv=5,scoring='accuracy',n_jobs=3)\n",
    "\n",
    "print(\"tfdf_svc mean:\",np.mean(tfdf_svc_res))\n",
    "print(\"tfdf_log mean:\",np.mean(tfdf_log_res))\n",
    "print(\"tfdf_sgd mean:\",np.mean(tfdf_sgd_res))"
   ]
  },
  {
   "cell_type": "markdown",
   "metadata": {},
   "source": [
    "Попробую стеммер"
   ]
  },
  {
   "cell_type": "code",
   "execution_count": 87,
   "metadata": {},
   "outputs": [
    {
     "name": "stderr",
     "output_type": "stream",
     "text": [
      "[nltk_data] Downloading package wordnet to /home/kirill/nltk_data...\n",
      "[nltk_data]   Package wordnet is already up-to-date!\n"
     ]
    },
    {
     "data": {
      "text/plain": [
       "True"
      ]
     },
     "execution_count": 87,
     "metadata": {},
     "output_type": "execute_result"
    }
   ],
   "source": [
    "from nltk.stem.porter import *\n",
    "import nltk\n",
    "nltk.download('wordnet')"
   ]
  },
  {
   "cell_type": "code",
   "execution_count": 88,
   "metadata": {},
   "outputs": [],
   "source": [
    "stemmer = nltk.stem.WordNetLemmatizer()\n",
    "cnt_analyzer = CountVectorizer().build_analyzer()\n",
    "tf_analyzer = TfidfVectorizer().build_analyzer()\n",
    "\n",
    "def cnt_stemmed_words(doc):\n",
    "    return (stemmer.lemmatize(w) for w in cnt_analyzer(doc))\n",
    "\n",
    "def tf_stemmed_words(doc):\n",
    "    return (stemmer.lemmatize(w) for w in tf_analyzer(doc))"
   ]
  },
  {
   "cell_type": "code",
   "execution_count": 89,
   "metadata": {},
   "outputs": [
    {
     "name": "stdout",
     "output_type": "stream",
     "text": [
      "tfdf_svc mean: 0.7891841349874593\n",
      "tfdf_log mean: 0.7764115414458194\n",
      "tfdf_sgd mean: 0.7761090794632606\n"
     ]
    }
   ],
   "source": [
    "tfdf_svc_clf = Pipeline([('vect', TfidfVectorizer(analyzer=tf_stemmed_words,\n",
    "                                                  ngram_range=(1, 2))),\n",
    "                     ('clf', LinearSVC(random_state=123))])\n",
    "\n",
    "tfdf_log_clf = Pipeline([('vect', TfidfVectorizer(analyzer=tf_stemmed_words,\n",
    "                                                  ngram_range=(1, 2))),\n",
    "                     ('clf', LogisticRegression(random_state=123))])\n",
    "\n",
    "tfdf_sgd_clf = Pipeline([('vect', TfidfVectorizer(analyzer=tf_stemmed_words,\n",
    "                                                  ngram_range=(1, 2))),\n",
    "                     ('clf', SGDClassifier(random_state=123,max_iter=1000,tol=1e-3))])\n",
    "\n",
    "tfdf_svc_res=cross_val_score(tfdf_svc_clf,X,y,cv=5,scoring='accuracy',n_jobs=3)\n",
    "tfdf_log_res=cross_val_score(tfdf_log_clf,X,y,cv=5,scoring='accuracy',n_jobs=3)\n",
    "tfdf_sgd_res=cross_val_score(tfdf_sgd_clf,X,y,cv=5,scoring='accuracy',n_jobs=3)\n",
    "\n",
    "print(\"tfdf_svc mean:\",np.mean(tfdf_svc_res))\n",
    "print(\"tfdf_log mean:\",np.mean(tfdf_log_res))\n",
    "print(\"tfdf_sgd mean:\",np.mean(tfdf_sgd_res))"
   ]
  },
  {
   "cell_type": "code",
   "execution_count": 90,
   "metadata": {},
   "outputs": [
    {
     "name": "stdout",
     "output_type": "stream",
     "text": [
      "count_svc mean: 0.7766393503597417\n",
      "count_log mean: 0.7854135808477019\n",
      "count_sgd mean: 0.7692968864673335\n"
     ]
    }
   ],
   "source": [
    "count_svc_clf = Pipeline([('vect', CountVectorizer(analyzer=cnt_stemmed_words,\n",
    "                                                   ngram_range=(1, 2))),\n",
    "                     ('clf', LinearSVC(random_state=123))])\n",
    "\n",
    "count_log_clf = Pipeline([('vect', CountVectorizer(analyzer=cnt_stemmed_words,\n",
    "                                                   ngram_range=(1, 2))),\n",
    "                     ('clf', LogisticRegression(random_state=123))])\n",
    "\n",
    "count_sgd_clf = Pipeline([('vect', CountVectorizer(analyzer=cnt_stemmed_words,\n",
    "                                                   ngram_range=(1, 2))),\n",
    "                     ('clf', SGDClassifier(random_state=123,max_iter=1000,tol=1e-3))])\n",
    "\n",
    "count_svc_res=cross_val_score(count_svc_clf,X,y,cv=5,scoring='accuracy',n_jobs=3)\n",
    "count_log_res=cross_val_score(count_log_clf,X,y,cv=5,scoring='accuracy',n_jobs=3)\n",
    "count_sgd_res=cross_val_score(count_sgd_clf,X,y,cv=5,scoring='accuracy',n_jobs=3)\n",
    "\n",
    "print(\"count_svc mean:\",np.mean(count_svc_res))\n",
    "print(\"count_log mean:\",np.mean(count_log_res))\n",
    "print(\"count_sgd mean:\",np.mean(count_sgd_res))"
   ]
  },
  {
   "cell_type": "markdown",
   "metadata": {},
   "source": [
    "Как видно, результат стал лучше, но далёк от совершенного.  \n",
    "Так как этот датасет является частью соревнования Kaggle, я хочу классифицировать их контрольную выборку и получить результат.  \n",
    "Для начала, я хочу обучить модель на всех данных."
   ]
  },
  {
   "cell_type": "code",
   "execution_count": 91,
   "metadata": {},
   "outputs": [
    {
     "data": {
      "text/plain": [
       "Pipeline(memory=None,\n",
       "     steps=[('vect', TfidfVectorizer(analyzer=<function tf_stemmed_words at 0x7f91a1c7bd90>,\n",
       "        binary=False, decode_error='strict', dtype=<class 'numpy.int64'>,\n",
       "        encoding='utf-8', input='content', lowercase=True, max_df=1.0,\n",
       "        max_features=None, min_df=1, ngram_range=(1, 2), norm='l2',...max_iter=1000,\n",
       "     multi_class='ovr', penalty='l2', random_state=123, tol=0.0001,\n",
       "     verbose=0))])"
      ]
     },
     "execution_count": 91,
     "metadata": {},
     "output_type": "execute_result"
    }
   ],
   "source": [
    "count_log_clf.fit(X,y)\n",
    "tfdf_svc_clf.fit(X,y)"
   ]
  },
  {
   "cell_type": "code",
   "execution_count": 92,
   "metadata": {},
   "outputs": [],
   "source": [
    "test=pd.read_json('test.json')\n",
    "X_pred=test.ingredients.apply(lambda x: ', '.join(x))\n",
    "y_pred=tfdf_svc_clf.predict(X_pred)"
   ]
  },
  {
   "cell_type": "code",
   "execution_count": 93,
   "metadata": {},
   "outputs": [],
   "source": [
    "sub=pd.read_csv('sample_submission.csv')"
   ]
  },
  {
   "cell_type": "code",
   "execution_count": 94,
   "metadata": {},
   "outputs": [],
   "source": [
    "y_sub=[]\n",
    "for x in y_pred:\n",
    "    y_sub.append(dict_y[x])"
   ]
  },
  {
   "cell_type": "code",
   "execution_count": 95,
   "metadata": {},
   "outputs": [],
   "source": [
    "sub.cuisine=y_sub"
   ]
  },
  {
   "cell_type": "code",
   "execution_count": 96,
   "metadata": {},
   "outputs": [],
   "source": [
    "sub.id=test.id"
   ]
  },
  {
   "cell_type": "code",
   "execution_count": 97,
   "metadata": {},
   "outputs": [],
   "source": [
    "sub.to_csv('submission.csv', index=False)"
   ]
  },
  {
   "cell_type": "code",
   "execution_count": 98,
   "metadata": {},
   "outputs": [
    {
     "data": {
      "text/plain": [
       "italian         2080\n",
       "mexican         1620\n",
       "southern_us     1192\n",
       "indian           806\n",
       "chinese          723\n",
       "french           693\n",
       "thai             420\n",
       "cajun_creole     377\n",
       "japanese         298\n",
       "greek            281\n",
       "moroccan         188\n",
       "korean           187\n",
       "vietnamese       182\n",
       "spanish          172\n",
       "filipino         163\n",
       "british          154\n",
       "irish            116\n",
       "jamaican         105\n",
       "russian           95\n",
       "brazilian         92\n",
       "Name: cuisine, dtype: int64"
      ]
     },
     "execution_count": 98,
     "metadata": {},
     "output_type": "execute_result"
    }
   ],
   "source": [
    "sub.cuisine.value_counts()"
   ]
  },
  {
   "cell_type": "markdown",
   "metadata": {},
   "source": [
    "По результатам проверки на kaggle я получил 78,8% точности, что на 5% ниже результата победителя в этом соревновании.  "
   ]
  },
  {
   "cell_type": "code",
   "execution_count": null,
   "metadata": {},
   "outputs": [],
   "source": []
  }
 ],
 "metadata": {
  "kernelspec": {
   "display_name": "Python 3",
   "language": "python",
   "name": "python3"
  },
  "language_info": {
   "codemirror_mode": {
    "name": "ipython",
    "version": 3
   },
   "file_extension": ".py",
   "mimetype": "text/x-python",
   "name": "python",
   "nbconvert_exporter": "python",
   "pygments_lexer": "ipython3",
   "version": "3.6.7"
  }
 },
 "nbformat": 4,
 "nbformat_minor": 2
}
