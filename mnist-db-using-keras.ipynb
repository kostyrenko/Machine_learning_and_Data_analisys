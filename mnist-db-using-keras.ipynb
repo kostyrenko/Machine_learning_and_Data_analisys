{
 "cells": [
  {
   "cell_type": "markdown",
   "metadata": {
    "_cell_guid": "b1076dfc-b9ad-4769-8c92-a6c4dae69d19",
    "_uuid": "8f2839f25d086af736a60e9eeb907d3b93b6e0e5"
   },
   "source": [
    "Соревнование на kaggle. Работа со свёрочными нейронными сетями (CNN).  \n",
    "Ссылка на соревнование: https://www.kaggle.com/c/digit-recognizer  \n",
    "Датасет содержит рукописные цифры. Предлагается обучить сеть распознавать цифры.  \n",
    "Каждое изображение имеет размер 28х28 точек.  \n",
    "Наиболее подходящий вариант для решения задачи - свёрточная нейронная сеть https://ru.wikipedia.org/wiki/%D0%A1%D0%B2%D1%91%D1%80%D1%82%D0%BE%D1%87%D0%BD%D0%B0%D1%8F_%D0%BD%D0%B5%D0%B9%D1%80%D0%BE%D0%BD%D0%BD%D0%B0%D1%8F_%D1%81%D0%B5%D1%82%D1%8C  \n",
    "В данной задаче рассматривается простая (не глубокая) свёрочная сеть. Для классификации более сложных изображений используются сети более сложной архитекуры."
   ]
  },
  {
   "cell_type": "code",
   "execution_count": 93,
   "metadata": {},
   "outputs": [],
   "source": [
    "import numpy as np\n",
    "import pandas as pd\n",
    "import keras\n",
    "from keras.layers import Dense,Dropout,Conv2D,MaxPooling2D,Flatten\n",
    "from keras.models import Sequential\n",
    "from keras.optimizers import SGD\n",
    "from sklearn.model_selection import train_test_split\n",
    "import matplotlib.pyplot as plt"
   ]
  },
  {
   "cell_type": "markdown",
   "metadata": {},
   "source": [
    "Для реализации CNN я буду использовать фреймворк Keras, он работает поверх Tensor Flow и позволяет строить сети любой сложности и размера."
   ]
  },
  {
   "cell_type": "code",
   "execution_count": 94,
   "metadata": {
    "_cell_guid": "79c7e3d0-c299-4dcb-8224-4455121ee9b0",
    "_uuid": "d629ff2d2480ee46fbb7e2d37f6b5fab8052498a"
   },
   "outputs": [],
   "source": [
    "train_data=pd.read_csv('train.csv')\n",
    "test_data=pd.read_csv('test.csv')"
   ]
  },
  {
   "cell_type": "code",
   "execution_count": 95,
   "metadata": {
    "_uuid": "207b61ccc7459b461db226d1a087a98aa9ad9738"
   },
   "outputs": [],
   "source": [
    "labels=train_data['label']"
   ]
  },
  {
   "cell_type": "code",
   "execution_count": 96,
   "metadata": {
    "_uuid": "0cfdc3f038ed448ca7646ebe442c53eabffb5922"
   },
   "outputs": [],
   "source": [
    "train_data=train_data.drop(['label'],axis=1)"
   ]
  },
  {
   "cell_type": "code",
   "execution_count": 97,
   "metadata": {
    "_uuid": "226bfd2ec3dadeaf20341d90ab6f9fc9b5412dc1"
   },
   "outputs": [
    {
     "data": {
      "text/plain": [
       "1    4684\n",
       "7    4401\n",
       "3    4351\n",
       "9    4188\n",
       "2    4177\n",
       "6    4137\n",
       "0    4132\n",
       "4    4072\n",
       "8    4063\n",
       "5    3795\n",
       "Name: label, dtype: int64"
      ]
     },
     "execution_count": 97,
     "metadata": {},
     "output_type": "execute_result"
    }
   ],
   "source": [
    "labels.value_counts()"
   ]
  },
  {
   "cell_type": "markdown",
   "metadata": {},
   "source": [
    "Как видно из выдачи - выборка практически равномерно распределена по классам."
   ]
  },
  {
   "cell_type": "code",
   "execution_count": 98,
   "metadata": {
    "_uuid": "f27f1e60df62f48b7019e863b00be279795f0608"
   },
   "outputs": [],
   "source": [
    "labels = keras.utils.to_categorical(labels,len(labels.value_counts()))"
   ]
  },
  {
   "cell_type": "code",
   "execution_count": 99,
   "metadata": {
    "_uuid": "d97a17181580d68071328293d2974c566ceded69"
   },
   "outputs": [],
   "source": [
    "train_data=train_data.astype('float32')/255"
   ]
  },
  {
   "cell_type": "code",
   "execution_count": 100,
   "metadata": {
    "_uuid": "2ba6298ececc59c5b2112dc9bd7fe0f7e0ae531b"
   },
   "outputs": [],
   "source": [
    "train_X,test_X,train_y,test_y=train_test_split(train_data,labels, random_state=123, test_size=0.2)"
   ]
  },
  {
   "cell_type": "markdown",
   "metadata": {},
   "source": [
    "Я делю выборку на тестовую и тренировочную в пропорции 20/80 соответственно."
   ]
  },
  {
   "cell_type": "code",
   "execution_count": 107,
   "metadata": {
    "_uuid": "d78d3eae092e387f1846c53dcca9a019a0d07247"
   },
   "outputs": [],
   "source": [
    "train_X=train_X.values.reshape(train_X.shape[0],28,28,1)\n",
    "test_X=test_X.values.reshape(test_X.shape[0],28,28,1)"
   ]
  },
  {
   "cell_type": "code",
   "execution_count": 108,
   "metadata": {
    "_uuid": "2fb9b9a8f7022cdedbb0f76d5dce8189db06db37"
   },
   "outputs": [],
   "source": [
    "model = Sequential()\n",
    "model.add(Conv2D(32, kernel_size=(3, 3),\n",
    "                 activation='relu',\n",
    "                 input_shape=(28,28,1)))\n",
    "model.add(Conv2D(64, (3, 3), activation='relu'))\n",
    "model.add(MaxPooling2D(pool_size=(2, 2)))\n",
    "model.add(Dropout(0.25))\n",
    "model.add(Flatten())\n",
    "model.add(Dense(128, activation='relu'))\n",
    "model.add(Dropout(0.5))\n",
    "model.add(Dense(10, activation='softmax'))\n",
    "\n",
    "model.compile(loss=keras.losses.categorical_crossentropy,\n",
    "              optimizer=keras.optimizers.Adadelta(),\n",
    "              metrics=['accuracy'])"
   ]
  },
  {
   "cell_type": "code",
   "execution_count": 109,
   "metadata": {
    "_uuid": "ca756c88d85dccee7c182ff2933aecc42f7bd411"
   },
   "outputs": [
    {
     "name": "stdout",
     "output_type": "stream",
     "text": [
      "Train on 33600 samples, validate on 8400 samples\n",
      "Epoch 1/15\n",
      "33600/33600 [==============================] - 7s 203us/step - loss: 0.5192 - acc: 0.8384 - val_loss: 0.1599 - val_acc: 0.9502\n",
      "Epoch 2/15\n",
      "33600/33600 [==============================] - 6s 184us/step - loss: 0.1460 - acc: 0.9586 - val_loss: 0.0894 - val_acc: 0.9713\n",
      "Epoch 3/15\n",
      "33600/33600 [==============================] - 6s 183us/step - loss: 0.1002 - acc: 0.9694 - val_loss: 0.0584 - val_acc: 0.9820\n",
      "Epoch 4/15\n",
      "33600/33600 [==============================] - 6s 185us/step - loss: 0.0809 - acc: 0.9750 - val_loss: 0.0573 - val_acc: 0.9832\n",
      "Epoch 5/15\n",
      "33600/33600 [==============================] - 6s 193us/step - loss: 0.0674 - acc: 0.9802 - val_loss: 0.0542 - val_acc: 0.9832\n",
      "Epoch 6/15\n",
      "33600/33600 [==============================] - 6s 191us/step - loss: 0.0586 - acc: 0.9822 - val_loss: 0.0445 - val_acc: 0.9862\n",
      "Epoch 7/15\n",
      "33600/33600 [==============================] - 6s 190us/step - loss: 0.0504 - acc: 0.9840 - val_loss: 0.0437 - val_acc: 0.9869\n",
      "Epoch 8/15\n",
      "33600/33600 [==============================] - 7s 200us/step - loss: 0.0445 - acc: 0.9852 - val_loss: 0.0419 - val_acc: 0.9875\n",
      "Epoch 9/15\n",
      "33600/33600 [==============================] - 7s 208us/step - loss: 0.0424 - acc: 0.9870 - val_loss: 0.0383 - val_acc: 0.9885\n",
      "Epoch 10/15\n",
      "33600/33600 [==============================] - 7s 205us/step - loss: 0.0390 - acc: 0.9877 - val_loss: 0.0432 - val_acc: 0.9877\n",
      "Epoch 11/15\n",
      "33600/33600 [==============================] - 7s 202us/step - loss: 0.0339 - acc: 0.9893 - val_loss: 0.0441 - val_acc: 0.9870\n",
      "Epoch 12/15\n",
      "33600/33600 [==============================] - 7s 203us/step - loss: 0.0323 - acc: 0.9897 - val_loss: 0.0371 - val_acc: 0.9881\n",
      "Epoch 13/15\n",
      "33600/33600 [==============================] - 7s 202us/step - loss: 0.0293 - acc: 0.9901 - val_loss: 0.0384 - val_acc: 0.9875\n",
      "Epoch 14/15\n",
      "33600/33600 [==============================] - 7s 202us/step - loss: 0.0281 - acc: 0.9912 - val_loss: 0.0353 - val_acc: 0.9893\n",
      "Epoch 15/15\n",
      "33600/33600 [==============================] - 7s 200us/step - loss: 0.0268 - acc: 0.9918 - val_loss: 0.0375 - val_acc: 0.9889\n"
     ]
    },
    {
     "data": {
      "text/plain": [
       "<keras.callbacks.History at 0x7fb476eb0fd0>"
      ]
     },
     "execution_count": 109,
     "metadata": {},
     "output_type": "execute_result"
    }
   ],
   "source": [
    "model.fit(train_X,train_y,batch_size=256,epochs=15,verbose=1,validation_data=(test_X, test_y))"
   ]
  },
  {
   "cell_type": "markdown",
   "metadata": {},
   "source": [
    "По результатам обучения получилось точность 99.18% на тренировочной выборке и 98.89% на тестовой.  \n",
    "Теперь можно построить прогноз по валидационной выборке на kaggle."
   ]
  },
  {
   "cell_type": "code",
   "execution_count": 110,
   "metadata": {
    "_uuid": "24f3a78e7deb430511ee17a93d0eb53a51e82716"
   },
   "outputs": [],
   "source": [
    "test_data=test_data.astype('float32')/255"
   ]
  },
  {
   "cell_type": "code",
   "execution_count": 111,
   "metadata": {
    "_uuid": "0a26b23ced48d1dfb1033650eeba4afa2c1393bd"
   },
   "outputs": [],
   "source": [
    "test=test_data.values.reshape(len(test_data),28,28,1)"
   ]
  },
  {
   "cell_type": "code",
   "execution_count": 112,
   "metadata": {
    "_uuid": "bbfda4046d2c1caea132787cf7e90ff220dbfdd2"
   },
   "outputs": [],
   "source": [
    "k=model1.predict_classes(test)\n",
    "res=pd.DataFrame(data=k)\n",
    "res.index+=1\n",
    "res['ImageId']=res.index\n",
    "res=res.rename(index=str, columns={0: \"Label1\"})\n",
    "res['Label']=res['Label1']\n",
    "res=res.drop(['Label1'],axis=1)"
   ]
  },
  {
   "cell_type": "code",
   "execution_count": 113,
   "metadata": {},
   "outputs": [
    {
     "data": {
      "text/plain": [
       "1    3219\n",
       "7    2881\n",
       "2    2811\n",
       "4    2796\n",
       "0    2787\n",
       "3    2780\n",
       "6    2746\n",
       "9    2744\n",
       "8    2739\n",
       "5    2497\n",
       "Name: Label, dtype: int64"
      ]
     },
     "execution_count": 113,
     "metadata": {},
     "output_type": "execute_result"
    }
   ],
   "source": [
    "res.Label.value_counts()"
   ]
  },
  {
   "cell_type": "code",
   "execution_count": 114,
   "metadata": {
    "_uuid": "0602d68e2f2c55d2db807f12e593d475a6417e6d"
   },
   "outputs": [],
   "source": [
    "res.to_csv('result.csv', index=False)"
   ]
  },
  {
   "cell_type": "markdown",
   "metadata": {},
   "source": [
    "По итогу валидации, точность на kaggle составила 98.60%."
   ]
  },
  {
   "cell_type": "code",
   "execution_count": null,
   "metadata": {},
   "outputs": [],
   "source": []
  }
 ],
 "metadata": {
  "kernelspec": {
   "display_name": "Python 3",
   "language": "python",
   "name": "python3"
  },
  "language_info": {
   "codemirror_mode": {
    "name": "ipython",
    "version": 3
   },
   "file_extension": ".py",
   "mimetype": "text/x-python",
   "name": "python",
   "nbconvert_exporter": "python",
   "pygments_lexer": "ipython3",
   "version": "3.6.7"
  }
 },
 "nbformat": 4,
 "nbformat_minor": 1
}
